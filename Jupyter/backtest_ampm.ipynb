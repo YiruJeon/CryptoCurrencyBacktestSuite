{
 "cells": [
  {
   "cell_type": "code",
   "execution_count": 3,
   "id": "67cbd8d9",
   "metadata": {},
   "outputs": [
    {
     "data": {
      "application/vnd.jupyter.widget-view+json": {
       "model_id": "2ed813654175499a94003c4ae4ab1256",
       "version_major": 2,
       "version_minor": 0
      },
      "text/plain": [
       "Executing:   0%|          | 0/8 [00:00<?, ?cell/s]"
      ]
     },
     "metadata": {},
     "output_type": "display_data"
    },
    {
     "data": {
      "application/vnd.jupyter.widget-view+json": {
       "model_id": "8c2d137ed48e4e80833e68175daaa455",
       "version_major": 2,
       "version_minor": 0
      },
      "text/plain": [
       "Executing:   0%|          | 0/8 [00:00<?, ?cell/s]"
      ]
     },
     "metadata": {},
     "output_type": "display_data"
    },
    {
     "data": {
      "application/vnd.jupyter.widget-view+json": {
       "model_id": "b329c13e47b44b6a9a9b34a0d110be31",
       "version_major": 2,
       "version_minor": 0
      },
      "text/plain": [
       "Executing:   0%|          | 0/8 [00:00<?, ?cell/s]"
      ]
     },
     "metadata": {},
     "output_type": "display_data"
    }
   ],
   "source": [
    "import papermill as pm\n",
    "\n",
    "filenames = [\n",
    "    'binance_btc_usdt_hour_gmt.csv',\n",
    "    'bithumb_btc_krw_hour_gmt.csv',\n",
    "    'coinone_btc_krw_hour_gmt.csv',\n",
    "]\n",
    "\n",
    "\n",
    "for fn in filenames: \n",
    "    pm.execute_notebook(\n",
    "       'backtest_ampm_source.ipynb',\n",
    "       'backtest_ampm_output_{}.ipynb'.format(fn),\n",
    "       parameters = {'targetDataFile': fn}\n",
    "    )\n"
   ]
  }
 ],
 "metadata": {
  "kernelspec": {
   "display_name": "Python 3 (ipykernel)",
   "language": "python",
   "name": "python3"
  },
  "language_info": {
   "codemirror_mode": {
    "name": "ipython",
    "version": 3
   },
   "file_extension": ".py",
   "mimetype": "text/x-python",
   "name": "python",
   "nbconvert_exporter": "python",
   "pygments_lexer": "ipython3",
   "version": "3.9.7"
  }
 },
 "nbformat": 4,
 "nbformat_minor": 5
}
