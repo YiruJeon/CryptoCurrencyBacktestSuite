{
 "cells": [
  {
   "cell_type": "code",
   "execution_count": null,
   "metadata": {},
   "outputs": [],
   "source": [
    "import papermill as pm\n",
    "\n",
    "filenames = [\n",
    "    'binance_btc_usdt_hour_gmt.csv',\n",
    "    'bithumb_btc_krw_hour_gmt.csv',\n",
    "    'coinone_btc_krw_hour_gmt.csv',\n",
    "]\n",
    "\n",
    "\n",
    "for fn in filenames: \n",
    "    pm.execute_notebook(\n",
    "       'backtest_ampm_source.ipynb',\n",
    "       'backtest_ampm_output_{}.ipynb'.format(fn),\n",
    "       parameters = {'targetDataFile': fn}\n",
    "    )\n"
   ]
  }
 ],
 "metadata": {
  "language_info": {
   "name": "python"
  }
 },
 "nbformat": 4,
 "nbformat_minor": 5
}
