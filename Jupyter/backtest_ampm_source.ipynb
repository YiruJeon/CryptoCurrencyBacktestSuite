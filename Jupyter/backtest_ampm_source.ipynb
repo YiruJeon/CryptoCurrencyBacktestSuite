{
 "cells": [
  {
   "cell_type": "code",
   "execution_count": null,
   "id": "553519ff",
   "metadata": {},
   "outputs": [],
   "source": [
    "import pandas as pd\n",
    "import numpy as np\n",
    "import datetime\n",
    "import plotly.express as px"
   ]
  },
  {
   "cell_type": "code",
   "execution_count": null,
   "id": "3c9023f2",
   "metadata": {
    "tags": [
     "parameters"
    ]
   },
   "outputs": [],
   "source": [
    "targetDataFile = 'coinone_btc_krw_hour_gmt.csv'"
   ]
  },
  {
   "cell_type": "code",
   "execution_count": null,
   "id": "b027cea4",
   "metadata": {},
   "outputs": [],
   "source": [
    "dt_parser = lambda x: datetime.datetime.strptime(x, \"%Y-%m-%d %H:%M:%S\")\n",
    "\n",
    "hist_hour = pd.read_csv(\n",
    "    targetDataFile, \n",
    "    index_col = 0, \n",
    "    parse_dates = True, \n",
    "    date_parser = dt_parser)\n",
    "\n",
    "# UTC + 9로 시간 변환\n",
    "# hist_hour.index = hist_hour.index + datetime.timedelta(hours=9)    "
   ]
  },
  {
   "cell_type": "code",
   "execution_count": null,
   "id": "5bd14c50",
   "metadata": {},
   "outputs": [],
   "source": [
    "def do_ampm(hist_hour, buy, hold):\n",
    "    # 하....DataFrame.between_time에 이미 있다 -ㅅ-\n",
    "    buyTime = datetime.time(buy, 0, 0)\n",
    "    holdingTime = hold\n",
    "\n",
    "    buyOffset = hist_hour.index.hour - buyTime.hour\n",
    "    hist_hour['buyOffset'] = np.where(buyOffset >= 0, buyOffset, buyOffset + 24)\n",
    "    hist_hour_include = hist_hour[ hist_hour['buyOffset'] < holdingTime ]\n",
    "    hist_hour_exclude = hist_hour[ hist_hour['buyOffset'] >= holdingTime ]\n",
    "\n",
    "    offset = datetime.timedelta(hours=buyTime.hour, minutes=buyTime.minute, seconds=0)\n",
    "    buySheet = hist_hour_include.resample('1D', offset=offset).agg( {\n",
    "        'open': 'first', #lambda df: None if df.empty else df[0],\n",
    "        'close': 'last', #lambda df: None if df.empty else df[-1],\n",
    "        'volume': 'sum',\n",
    "        'value': 'sum',\n",
    "    })\n",
    "    excludeSheet = hist_hour_exclude.resample('1D', offset=offset).agg( {\n",
    "        'open': 'first', #lambda df: None if df.empty else df[0],\n",
    "        'close': 'last', #lambda df: None if df.empty else df[-1],\n",
    "        'volume': 'sum',\n",
    "        'value': 'sum',\n",
    "    })\n",
    "\n",
    "    # drop first 2 days\n",
    "    # head data cannot be reliable\n",
    "    buySheet.drop(buySheet.index[:2], inplace=True)\n",
    "\n",
    "    buySheet.index.name = 'time_of_buy'\n",
    "    buySheet['simple.return_of_rate'] = buySheet['open'].shift(-1) / buySheet['open']\n",
    "    buySheet['simple.assets_after_sell'] = buySheet['simple.return_of_rate'].cumprod()\n",
    "    buySheet['simple.assets_max'] = buySheet['simple.assets_after_sell'].cummax()\n",
    "    buySheet['simple.dd'] = 1 - buySheet['simple.assets_after_sell'] / buySheet['simple.assets_max']\n",
    "    buySheet['simple.mdd'] = buySheet['simple.dd'].cummax()\n",
    "\n",
    "    buySheet['ampm.return_of_rate'] = buySheet['close'] / buySheet['open']\n",
    "    buySheet['ampm.assets_after_sell'] = buySheet['ampm.return_of_rate'].cumprod()\n",
    "    buySheet['ampm.assets_max'] = buySheet['ampm.assets_after_sell'].cummax()\n",
    "    buySheet['ampm.dd'] = 1 - buySheet['ampm.assets_after_sell'] / buySheet['ampm.assets_max']\n",
    "    buySheet['ampm.mdd'] = buySheet['ampm.dd'].cummax()\n",
    "\n",
    "    buySheet['ampm.volumeDiff'] = excludeSheet['volume'] - buySheet['volume']\n",
    "    buySheet['ampm.volumeDiffSum'] = buySheet['ampm.volumeDiff'].cumsum()\n",
    "\n",
    "    return buySheet"
   ]
  },
  {
   "cell_type": "code",
   "execution_count": null,
   "id": "50429852",
   "metadata": {},
   "outputs": [],
   "source": [
    "maxAsset = 0\n",
    "\n",
    "results_bytime = pd.DataFrame(index=range(0, 24), columns=range(1,24), dtype=float)\n",
    "results_byassets = pd.DataFrame(columns=[\"assets\", \"buyTime\", \"holdingTime\", \"mdd\", \"volumeDiffSum\"])\n",
    "for i in range(0, 24):\n",
    "    for j in range(1, 24):\n",
    "      buySheet = do_ampm(hist_hour, i, j)\n",
    "      if maxAsset < buySheet['ampm.assets_after_sell'][-2]:\n",
    "        maxAsset = buySheet['ampm.assets_after_sell'][-2]\n",
    "        maxBt = i\n",
    "        maxHt = j\n",
    "        maxBuySheet = buySheet\n",
    "      results_bytime.iloc[i][j] = buySheet['ampm.assets_after_sell'][-2]\n",
    "      results_byassets = results_byassets.append(\n",
    "        {\n",
    "          \"assets\": buySheet['ampm.assets_after_sell'][-2], \n",
    "          \"buyTime\": i, \n",
    "          \"holdingTime\": j, \n",
    "          \"mdd\": buySheet['ampm.mdd'][-2], \n",
    "          \"volumeDiffSum\": buySheet['ampm.volumeDiffSum'][-2],\n",
    "        },\n",
    "        ignore_index=True,\n",
    "      )\n"
   ]
  },
  {
   "cell_type": "code",
   "execution_count": null,
   "id": "a12b758b",
   "metadata": {},
   "outputs": [],
   "source": [
    "results_bytime.index.name = \"Buy Time\"\n",
    "results_byassets.set_index(\"assets\", inplace=True)\n",
    "results_byassets = results_byassets.sort_index(ascending=False)"
   ]
  },
  {
   "cell_type": "code",
   "execution_count": null,
   "id": "484c27c0",
   "metadata": {},
   "outputs": [],
   "source": [
    "results_bytime_data = results_bytime.to_csv(float_format=\"%.02f\")\n",
    "results_byFinalAsset_data = results_byassets.to_csv(float_format=\"%.02f\")\n",
    "\n",
    "with open(targetDataFile+\"_results_ampm.csv\", \"w\", encoding='utf-8', newline='') as f:\n",
    "  f.write(results_bytime_data)\n",
    "  f.write(\"\\r\\n\")\n",
    "  f.write(results_byFinalAsset_data)\n",
    "  f.write(\"\\r\\n\")\n",
    "\n",
    "print(maxBuySheet['simple.mdd'])\n",
    "px.line(maxBuySheet, y=['simple.assets_after_sell', 'ampm.assets_after_sell'], log_y=True).show()\n",
    "px.line(maxBuySheet, y=['ampm.volumeDiffSum']).show()"
   ]
  }
 ],
 "metadata": {
  "celltoolbar": "Tags",
  "kernelspec": {
   "display_name": "Python 3 (ipykernel)",
   "language": "python",
   "name": "python3"
  },
  "language_info": {
   "codemirror_mode": {
    "name": "ipython",
    "version": 3
   },
   "file_extension": ".py",
   "mimetype": "text/x-python",
   "name": "python",
   "nbconvert_exporter": "python",
   "pygments_lexer": "ipython3",
   "version": "3.9.7"
  }
 },
 "nbformat": 4,
 "nbformat_minor": 5
}
